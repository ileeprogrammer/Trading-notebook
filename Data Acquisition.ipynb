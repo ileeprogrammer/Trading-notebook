{
 "cells": [
  {
   "cell_type": "code",
   "execution_count": 6,
   "metadata": {},
   "outputs": [],
   "source": [
    "import cbpro\n",
    "import pandas as pd\n",
    "import time\n",
    "import datetime\n",
    "import random"
   ]
  },
  {
   "cell_type": "code",
   "execution_count": 7,
   "metadata": {},
   "outputs": [],
   "source": [
    "client = cbpro.PublicClient()"
   ]
  },
  {
   "cell_type": "code",
   "execution_count": 8,
   "metadata": {},
   "outputs": [
    {
     "data": {
      "text/plain": [
       "{'ask': '1495.84',\n",
       " 'bid': '1495.75',\n",
       " 'volume': '15821.52824143',\n",
       " 'trade_id': 13103587,\n",
       " 'price': '1496.01',\n",
       " 'size': '0.2',\n",
       " 'time': '2023-02-14T01:30:31.732553Z'}"
      ]
     },
     "execution_count": 8,
     "metadata": {},
     "output_type": "execute_result"
    }
   ],
   "source": [
    "client.get_product_ticker(\"ETH-USDT\")"
   ]
  },
  {
   "cell_type": "code",
   "execution_count": 9,
   "metadata": {},
   "outputs": [],
   "source": [
    "def getData(start, end, coinType=\"ETH-USDT\"):\n",
    "    \"\"\"\n",
    "    The function helps with acquiring the historical data from the Coinbase Pro using python API.\n",
    "    The cbpro API does not allow >300 requests at once. The API is likely to fail if it pulls too much data from the public client. \n",
    "    I have implement the function such that it sleeps 3-5 seconds before it request more data.\n",
    "    \"\"\"\n",
    "\n",
    "    period = start + datetime.timedelta(seconds=3600*300)\n",
    "\n",
    "    ls = []\n",
    "    while start < end:\n",
    "        print(start)\n",
    "        # get historic rates of etheureum to USD tether at utc+0\n",
    "        data = client.get_product_historic_rates(coinType, granularity=3600,start=start, end=period)\n",
    "        # convert into a pandas dataframe\n",
    "        df = pd.DataFrame(data, columns=['time', 'open', 'high', 'low', 'close', 'volume'])\n",
    "        # convert the time column into a datetime object\n",
    "        df['time'] = pd.to_datetime(df['time'], unit='s')\n",
    "        # set the time column as the index\n",
    "        df.set_index('time', inplace=True)\n",
    "\n",
    "        ls.append(df)\n",
    "        start = period\n",
    "        period = period + datetime.timedelta(seconds=3600*300)\n",
    "\n",
    "        time.sleep(random.uniform(3,5))\n",
    "    temp = pd.concat(ls)\n",
    "    temp.sort_values(\"time\", ascending=True, inplace=True)\n",
    "    # print(temp)\n",
    "    outputFileName = str(coinType) + \".csv\"\n",
    "    temp.to_csv(outputFileName)"
   ]
  },
  {
   "cell_type": "code",
   "execution_count": 10,
   "metadata": {},
   "outputs": [
    {
     "name": "stdout",
     "output_type": "stream",
     "text": [
      "2022-11-01 00:00:00\n",
      "2022-11-13 12:00:00\n",
      "2022-11-26 00:00:00\n",
      "2022-12-08 12:00:00\n",
      "2022-12-21 00:00:00\n",
      "2023-01-02 12:00:00\n",
      "2023-01-15 00:00:00\n",
      "2023-01-27 12:00:00\n"
     ]
    }
   ],
   "source": [
    "import datetime\n",
    "start = datetime.datetime(2022, 11, 1, 0, 0, 0)\n",
    "end = datetime.datetime(2023, 2, 1, 0, 0, 0)\n",
    "getData(start, end, \"ETH-USDT\")"
   ]
  }
 ],
 "metadata": {
  "kernelspec": {
   "display_name": ".venv",
   "language": "python",
   "name": "python3"
  },
  "language_info": {
   "codemirror_mode": {
    "name": "ipython",
    "version": 3
   },
   "file_extension": ".py",
   "mimetype": "text/x-python",
   "name": "python",
   "nbconvert_exporter": "python",
   "pygments_lexer": "ipython3",
   "version": "3.9.6"
  },
  "orig_nbformat": 4,
  "vscode": {
   "interpreter": {
    "hash": "d528c80b36028482e8fa113ee4c91f82a3a7bf9c73a4d6ec5a7e48c44104e7f8"
   }
  }
 },
 "nbformat": 4,
 "nbformat_minor": 2
}
